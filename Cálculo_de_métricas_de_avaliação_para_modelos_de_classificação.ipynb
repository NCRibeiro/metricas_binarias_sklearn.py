{
  "nbformat": 4,
  "nbformat_minor": 0,
  "metadata": {
    "colab": {
      "provenance": [],
      "authorship_tag": "ABX9TyN5ZtcqkcuydWX9zJgpszpY",
      "include_colab_link": true
    },
    "kernelspec": {
      "name": "python3",
      "display_name": "Python 3"
    },
    "language_info": {
      "name": "python"
    }
  },
  "cells": [
    {
      "cell_type": "markdown",
      "metadata": {
        "id": "view-in-github",
        "colab_type": "text"
      },
      "source": [
        "<a href=\"https://colab.research.google.com/github/NCRibeiro/Aplicativo-LiFE/blob/main/C%C3%A1lculo_de_m%C3%A9tricas_de_avalia%C3%A7%C3%A3o_para_modelos_de_classifica%C3%A7%C3%A3o.ipynb\" target=\"_parent\"><img src=\"https://colab.research.google.com/assets/colab-badge.svg\" alt=\"Open In Colab\"/></a>"
      ]
    },
    {
      "cell_type": "code",
      "execution_count": 1,
      "metadata": {
        "id": "eoyIevYhWkNg"
      },
      "outputs": [],
      "source": [
        "from sklearn.metrics import accuracy_score, recall_score, precision_score, f1_score, confusion_matrix\n",
        "import numpy as np"
      ]
    },
    {
      "cell_type": "code",
      "source": [
        "# Exemplo de matriz de confusão\n",
        "confusion_matrix_exemplo = np.array([[80, 20], [10, 90]]) # [[VN, FP], [FN, VP]]\n",
        "print(\"Matriz de Confusão:\\n\", confusion_matrix_exemplo)"
      ],
      "metadata": {
        "colab": {
          "base_uri": "https://localhost:8080/"
        },
        "id": "bTmaqNeOW9xA",
        "outputId": "64b2ed91-630b-4c64-c0e6-5c49a5c687e2"
      },
      "execution_count": 3,
      "outputs": [
        {
          "output_type": "stream",
          "name": "stdout",
          "text": [
            "Matriz de Confusão:\n",
            " [[80 20]\n",
            " [10 90]]\n"
          ]
        }
      ]
    },
    {
      "cell_type": "code",
      "source": [
        "VN = confusion_matrix_exemplo[0, 0]\n",
        "FP = confusion_matrix_exemplo[0, 1]\n",
        "FN = confusion_matrix_exemplo[1, 0]\n",
        "VP = confusion_matrix_exemplo[1, 1]\n",
        "\n",
        "print(\"Verdadeiros Negativos (VN):\", VN)\n",
        "print(\"Falsos Positivos (FP):\", FP)\n",
        "print(\"Falsos Negativos (FN):\", FN)\n",
        "print(\"Verdadeiros Positivos (VP):\", VP)"
      ],
      "metadata": {
        "colab": {
          "base_uri": "https://localhost:8080/"
        },
        "id": "ONm271vfXQ4i",
        "outputId": "e904a8e4-5907-49f7-b844-8456646a428c"
      },
      "execution_count": 4,
      "outputs": [
        {
          "output_type": "stream",
          "name": "stdout",
          "text": [
            "Verdadeiros Negativos (VN): 80\n",
            "Falsos Positivos (FP): 20\n",
            "Falsos Negativos (FN): 10\n",
            "Verdadeiros Positivos (VP): 90\n"
          ]
        }
      ]
    },
    {
      "cell_type": "code",
      "source": [
        " # Calculo das métricas usando as fórmulas\n",
        "\n",
        "sensibilidade = VP / (VP + FN)\n",
        "especificidade = VN / (FP + VN)\n",
        "acuracia = (VP + VN) / (VP + VN + FP + FN) # Ou (VP + VN) / np.sum(confusion_matrix_exemplo)\n",
        "precisao = VP / (VP + FP)\n",
        "f_score = 2 * (precisao * sensibilidade) / (precisao + sensibilidade)\n",
        "\n",
        "print(\"Sensibilidade (Recall):\", sensibilidade)\n",
        "print(\"Especificidade:\", especificidade)\n",
        "print(\"Acurácia:\", acuracia)\n",
        "print(\"Precisão:\", precisao)\n",
        "print(\"F-score:\", f_score)\n",
        "\n"
      ],
      "metadata": {
        "colab": {
          "base_uri": "https://localhost:8080/"
        },
        "id": "L__E-DqrX1BI",
        "outputId": "605139a7-1433-4264-b8ae-7f2c7d34d3c4"
      },
      "execution_count": 5,
      "outputs": [
        {
          "output_type": "stream",
          "name": "stdout",
          "text": [
            "Sensibilidade (Recall): 0.9\n",
            "Especificidade: 0.8\n",
            "Acurácia: 0.85\n",
            "Precisão: 0.8181818181818182\n",
            "F-score: 0.8571428571428572\n"
          ]
        }
      ]
    },
    {
      "cell_type": "code",
      "source": [
        "# Cálculo usando as funções do scikit-learn\n",
        "\n",
        "y_true = np.array([0] * (VN + FP) + [1] * (FN + VP)) # Cria os valores reais\n",
        "y_pred = np.array([0] * VN + [1] * FP + [0] * FN + [1] * VP) # Cria os valores preditos\n",
        "\n",
        "acuracia_sklearn = accuracy_score(y_true, y_pred)\n",
        "sensibilidade_sklearn = recall_score(y_true, y_pred)\n",
        "precisao_sklearn = precision_score(y_true, y_pred)\n",
        "f_score_sklearn = f1_score(y_true, y_pred)\n",
        "\n",
        "print(\"\\nUsando scikit-learn:\")\n",
        "print(\"Acurácia:\", acuracia_sklearn)\n",
        "print(\"Sensibilidade (Recall):\", sensibilidade_sklearn)\n",
        "print(\"Precisão:\", precisao_sklearn)\n",
        "print(\"F-score:\", f_score_sklearn)\n",
        "\n",
        "# Usando a função confusion_matrix para gerar a matriz\n",
        "cm = confusion_matrix(y_true, y_pred)\n",
        "print(\"\\nMatriz de Confusão (scikit-learn):\\n\", cm)"
      ],
      "metadata": {
        "colab": {
          "base_uri": "https://localhost:8080/"
        },
        "id": "hvc5dYWVYPQS",
        "outputId": "33543cd3-d11f-411d-8bd6-d63739b6d4fa"
      },
      "execution_count": 6,
      "outputs": [
        {
          "output_type": "stream",
          "name": "stdout",
          "text": [
            "\n",
            "Usando scikit-learn:\n",
            "Acurácia: 0.85\n",
            "Sensibilidade (Recall): 0.9\n",
            "Precisão: 0.8181818181818182\n",
            "F-score: 0.8571428571428571\n",
            "\n",
            "Matriz de Confusão (scikit-learn):\n",
            " [[80 20]\n",
            " [10 90]]\n"
          ]
        }
      ]
    }
  ]
}